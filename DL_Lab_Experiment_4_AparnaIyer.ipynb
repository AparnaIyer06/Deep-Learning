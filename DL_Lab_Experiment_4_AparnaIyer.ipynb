{
  "nbformat": 4,
  "nbformat_minor": 0,
  "metadata": {
    "colab": {
      "provenance": []
    },
    "kernelspec": {
      "name": "python3",
      "display_name": "Python 3"
    },
    "language_info": {
      "name": "python"
    }
  },
  "cells": [
    {
      "cell_type": "markdown",
      "source": [
        "Name: Aparna Iyer\n",
        "\n",
        "PRN: 22070126017\n",
        "\n",
        "Batch: 2022-2026\n",
        "\n",
        "Branch: AI-ML A1\n"
      ],
      "metadata": {
        "id": "jB1Gwk_URExr"
      }
    },
    {
      "cell_type": "markdown",
      "source": [
        "###**1. Title:**\n",
        "Linear Classification Using TensorFlow on CIFAR-10 Dataset.\n"
      ],
      "metadata": {
        "id": "v8lNFoXNRMLC"
      }
    },
    {
      "cell_type": "markdown",
      "source": [
        "###**2. Objectives:**\n",
        "\n",
        "1. Understand linear classification and its application with TensorFlow.\n",
        "\n",
        "2. Implement a linear classifier for the CIFAR-10 dataset using TensorFlow."
      ],
      "metadata": {
        "id": "LtXIS2msRL0J"
      }
    },
    {
      "cell_type": "markdown",
      "source": [
        "###**3. Theory:**\n",
        "\n",
        "Linear classification involves using a linear decision boundary to classify data points into different categories. For a given input\n",
        "𝑥\n",
        ", the classifier predicts the label by applying a weight matrix\n",
        "𝑊\n",
        "and bias\n",
        "𝑏\n",
        ", i.e.,\n",
        "𝑦\n",
        "=\n",
        "𝑊\n",
        "𝑥\n",
        "+\n",
        "𝑏\n",
        ". The goal is to minimize the classification error by adjusting these parameters through training.\n",
        "\n",
        "The CIFAR-10 dataset consists of 60,000 32x32 color images divided into 10 classes. Linear classifiers often perform poorly on complex datasets like CIFAR-10 because of the high variance and complexity of the data, but they serve as a good baseline for comparison with more complex models like neural networks.\n",
        "\n",
        "In this experiment, TensorFlow is used to implement and train a linear classifier on the CIFAR-10 dataset, demonstrating the principles of supervised learning, optimization, and evaluation in deep learning."
      ],
      "metadata": {
        "id": "z1Pgck7_RL7S"
      }
    },
    {
      "cell_type": "code",
      "source": [
        "import tensorflow as tf\n",
        "from tensorflow.keras import datasets\n",
        "import numpy as np\n",
        "\n",
        "# Load CIFAR-10 dataset\n",
        "(X_train, y_train), (X_test, y_test) = datasets.cifar10.load_data()\n",
        "\n"
      ],
      "metadata": {
        "colab": {
          "base_uri": "https://localhost:8080/"
        },
        "id": "57r8mhXASDiX",
        "outputId": "c2fcf504-8034-421a-bbb1-181ba808b05e"
      },
      "execution_count": null,
      "outputs": [
        {
          "output_type": "stream",
          "name": "stdout",
          "text": [
            "Downloading data from https://www.cs.toronto.edu/~kriz/cifar-10-python.tar.gz\n",
            "\u001b[1m170498071/170498071\u001b[0m \u001b[32m━━━━━━━━━━━━━━━━━━━━\u001b[0m\u001b[37m\u001b[0m \u001b[1m4s\u001b[0m 0us/step\n"
          ]
        }
      ]
    },
    {
      "cell_type": "code",
      "source": [
        "# Normalize the data\n",
        "X_train, X_test = X_train / 255.0, X_test / 255.0\n",
        "\n",
        "# Flatten the images into vectors (32x32x3 -> 3072)\n",
        "X_train_flat = X_train.reshape(X_train.shape[0], -1)\n",
        "X_test_flat = X_test.reshape(X_test.shape[0], -1)\n"
      ],
      "metadata": {
        "id": "v1Q5OJZtSEH0"
      },
      "execution_count": null,
      "outputs": []
    },
    {
      "cell_type": "code",
      "source": [
        "# Convert labels to one-hot encoding\n",
        "y_train_one_hot = tf.keras.utils.to_categorical(y_train, 10)\n",
        "y_test_one_hot = tf.keras.utils.to_categorical(y_test, 10)\n",
        "\n",
        "# Define the linear classification model (y = Wx + b)\n",
        "model = tf.keras.models.Sequential([\n",
        "    tf.keras.layers.Dense(10, input_shape=(3072,), activation='softmax')\n",
        "])\n"
      ],
      "metadata": {
        "colab": {
          "base_uri": "https://localhost:8080/"
        },
        "id": "8d4WO-btSEOg",
        "outputId": "ba4fb7c9-20ea-44b2-9a7d-94041705ce63"
      },
      "execution_count": null,
      "outputs": [
        {
          "output_type": "stream",
          "name": "stderr",
          "text": [
            "/usr/local/lib/python3.10/dist-packages/keras/src/layers/core/dense.py:87: UserWarning: Do not pass an `input_shape`/`input_dim` argument to a layer. When using Sequential models, prefer using an `Input(shape)` object as the first layer in the model instead.\n",
            "  super().__init__(activity_regularizer=activity_regularizer, **kwargs)\n"
          ]
        }
      ]
    },
    {
      "cell_type": "code",
      "source": [
        "# Compile the model\n",
        "model.compile(optimizer='sgd', loss='categorical_crossentropy', metrics=['accuracy'])\n",
        "\n",
        "# Train the model\n",
        "model.fit(X_train_flat, y_train_one_hot, epochs=10, batch_size=32, validation_data=(X_test_flat, y_test_one_hot))\n"
      ],
      "metadata": {
        "colab": {
          "base_uri": "https://localhost:8080/"
        },
        "id": "V45EGKkqSXZ4",
        "outputId": "bb0e1419-dd36-47cf-fd5d-0694c5356fae"
      },
      "execution_count": null,
      "outputs": [
        {
          "output_type": "stream",
          "name": "stdout",
          "text": [
            "Epoch 1/10\n",
            "\u001b[1m1563/1563\u001b[0m \u001b[32m━━━━━━━━━━━━━━━━━━━━\u001b[0m\u001b[37m\u001b[0m \u001b[1m6s\u001b[0m 3ms/step - accuracy: 0.2593 - loss: 2.0397 - val_accuracy: 0.3543 - val_loss: 1.8464\n",
            "Epoch 2/10\n",
            "\u001b[1m1563/1563\u001b[0m \u001b[32m━━━━━━━━━━━━━━━━━━━━\u001b[0m\u001b[37m\u001b[0m \u001b[1m6s\u001b[0m 4ms/step - accuracy: 0.3527 - loss: 1.8494 - val_accuracy: 0.3543 - val_loss: 1.8468\n",
            "Epoch 3/10\n",
            "\u001b[1m1563/1563\u001b[0m \u001b[32m━━━━━━━━━━━━━━━━━━━━\u001b[0m\u001b[37m\u001b[0m \u001b[1m7s\u001b[0m 2ms/step - accuracy: 0.3609 - loss: 1.8186 - val_accuracy: 0.3311 - val_loss: 1.8788\n",
            "Epoch 4/10\n",
            "\u001b[1m1563/1563\u001b[0m \u001b[32m━━━━━━━━━━━━━━━━━━━━\u001b[0m\u001b[37m\u001b[0m \u001b[1m5s\u001b[0m 3ms/step - accuracy: 0.3766 - loss: 1.7936 - val_accuracy: 0.3287 - val_loss: 1.9378\n",
            "Epoch 5/10\n",
            "\u001b[1m1563/1563\u001b[0m \u001b[32m━━━━━━━━━━━━━━━━━━━━\u001b[0m\u001b[37m\u001b[0m \u001b[1m8s\u001b[0m 2ms/step - accuracy: 0.3794 - loss: 1.7810 - val_accuracy: 0.3696 - val_loss: 1.7797\n",
            "Epoch 6/10\n",
            "\u001b[1m1563/1563\u001b[0m \u001b[32m━━━━━━━━━━━━━━━━━━━━\u001b[0m\u001b[37m\u001b[0m \u001b[1m7s\u001b[0m 3ms/step - accuracy: 0.3824 - loss: 1.7669 - val_accuracy: 0.3554 - val_loss: 1.8343\n",
            "Epoch 7/10\n",
            "\u001b[1m1563/1563\u001b[0m \u001b[32m━━━━━━━━━━━━━━━━━━━━\u001b[0m\u001b[37m\u001b[0m \u001b[1m3s\u001b[0m 2ms/step - accuracy: 0.3875 - loss: 1.7563 - val_accuracy: 0.3132 - val_loss: 1.9629\n",
            "Epoch 8/10\n",
            "\u001b[1m1563/1563\u001b[0m \u001b[32m━━━━━━━━━━━━━━━━━━━━\u001b[0m\u001b[37m\u001b[0m \u001b[1m5s\u001b[0m 2ms/step - accuracy: 0.3918 - loss: 1.7586 - val_accuracy: 0.3422 - val_loss: 1.8561\n",
            "Epoch 9/10\n",
            "\u001b[1m1563/1563\u001b[0m \u001b[32m━━━━━━━━━━━━━━━━━━━━\u001b[0m\u001b[37m\u001b[0m \u001b[1m5s\u001b[0m 3ms/step - accuracy: 0.3941 - loss: 1.7428 - val_accuracy: 0.3510 - val_loss: 1.8539\n",
            "Epoch 10/10\n",
            "\u001b[1m1563/1563\u001b[0m \u001b[32m━━━━━━━━━━━━━━━━━━━━\u001b[0m\u001b[37m\u001b[0m \u001b[1m4s\u001b[0m 2ms/step - accuracy: 0.3920 - loss: 1.7429 - val_accuracy: 0.3596 - val_loss: 1.8293\n"
          ]
        },
        {
          "output_type": "execute_result",
          "data": {
            "text/plain": [
              "<keras.src.callbacks.history.History at 0x7cb1a57e9900>"
            ]
          },
          "metadata": {},
          "execution_count": 4
        }
      ]
    },
    {
      "cell_type": "code",
      "source": [
        "# Evaluate the model\n",
        "\n",
        "test_loss, test_acc = model.evaluate(X_test_flat, y_test_one_hot, verbose=2)\n",
        "print(f'Test accuracy: {test_acc * 100:.2f}%')"
      ],
      "metadata": {
        "colab": {
          "base_uri": "https://localhost:8080/"
        },
        "id": "aTeGYaS6SbD_",
        "outputId": "51be3f9c-e07b-4d60-d314-4492a6e6562f"
      },
      "execution_count": null,
      "outputs": [
        {
          "output_type": "stream",
          "name": "stdout",
          "text": [
            "313/313 - 0s - 1ms/step - accuracy: 0.3596 - loss: 1.8293\n",
            "Test accuracy: 35.96%\n"
          ]
        }
      ]
    },
    {
      "cell_type": "markdown",
      "source": [
        "###**4. Conclusion:**\n",
        "\n",
        "The experiment successfully demonstrated the use of linear classification on the CIFAR-10 dataset using TensorFlow.\n",
        "\n",
        "While the linear classifier provided a basic model for classification, its performance was limited by the complexity of the CIFAR-10 dataset.\n",
        "\n",
        "The Accuracy of the Linear Classifier on the CIFAR-10 Dataset is only 35.96%.\n",
        "\n",
        "**Justification for 35.96% Accuracy:**\n",
        "\n",
        "The low accuracy is due to the complexity of CIFAR-10, which contains non-linear patterns that a linear classifier can't capture effectively.\n",
        "\n",
        "**Improvements:**\n",
        "\n",
        "a. Use Convolutional Neural Networks (CNNs) for better feature extraction.\n",
        "\n",
        "b. Apply data augmentation like rotations or flips.\n",
        "\n",
        "c. Try advanced optimizers like Adam.\n",
        "\n",
        "d. Increase the number of training epochs.\n",
        "\n",
        "e. Switching to more complex models and techniques will greatly improve accuracy.\n",
        "\n",
        "This highlights the need for more advanced architectures, such as deep neural networks, for image classification tasks."
      ],
      "metadata": {
        "id": "f8aCCe4VRpUn"
      }
    },
    {
      "cell_type": "code",
      "source": [
        "!apt-get install texlive texlive-xetex texlive-latex-extra pandoc"
      ],
      "metadata": {
        "colab": {
          "base_uri": "https://localhost:8080/"
        },
        "id": "wdwiYPUxm6rR",
        "outputId": "a04a25dc-fe0d-495d-a4da-732e9bc852b0"
      },
      "execution_count": null,
      "outputs": [
        {
          "output_type": "stream",
          "name": "stdout",
          "text": [
            "Processing triggers for tex-common (6.17) ...\n",
            "Running updmap-sys. This may take some time... done.\n",
            "Running mktexlsr /var/lib/texmf ... done.\n",
            "Building format(s) --all.\n",
            "\tThis may take some time... done.\n"
          ]
        }
      ]
    },
    {
      "cell_type": "code",
      "source": [
        "!pip install pypandoc"
      ],
      "metadata": {
        "id": "yNoJcObKm6xz"
      },
      "execution_count": null,
      "outputs": []
    },
    {
      "cell_type": "code",
      "source": [
        "from google.colab import drive\n",
        "drive.mount('/content/drive')"
      ],
      "metadata": {
        "colab": {
          "base_uri": "https://localhost:8080/"
        },
        "id": "kHAqLxQnn4ms",
        "outputId": "f7c41672-19ea-4d3c-b013-eb8c26bc8e81"
      },
      "execution_count": null,
      "outputs": [
        {
          "output_type": "stream",
          "name": "stdout",
          "text": [
            "Mounted at /content/drive\n"
          ]
        }
      ]
    },
    {
      "cell_type": "code",
      "source": [
        "!jupyter nbconvert --to PDF \"/content/drive/MyDrive/Colab Notebooks/DL_Lab_Experiment_4_AparnaIyer.ipynb\""
      ],
      "metadata": {
        "colab": {
          "base_uri": "https://localhost:8080/"
        },
        "id": "g7dkoxA5m64O",
        "outputId": "aeaae9d7-444c-4b41-ff9d-9aba565d23bb"
      },
      "execution_count": null,
      "outputs": [
        {
          "output_type": "stream",
          "name": "stdout",
          "text": [
            "[NbConvertApp] Running bibtex 1 time: ['bibtex', 'notebook']\n",
            "[NbConvertApp] WARNING | bibtex had problems, most likely because there were no citations\n",
            "[NbConvertApp] PDF successfully created\n",
            "[NbConvertApp] Writing 48206 bytes to /content/drive/MyDrive/Colab Notebooks/DL_Lab_Experiment_4_AparnaIyer.pdf\n"
          ]
        }
      ]
    }
  ]
}